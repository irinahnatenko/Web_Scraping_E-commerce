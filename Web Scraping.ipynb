{
 "cells": [
  {
   "cell_type": "code",
   "execution_count": 46,
   "id": "ce93473d",
   "metadata": {},
   "outputs": [],
   "source": [
    "import requests \n",
    "from bs4 import BeautifulSoup\n",
    "from time import sleep\n",
    "import pandas as pd"
   ]
  },
  {
   "cell_type": "code",
   "execution_count": 54,
   "id": "4d3a4801",
   "metadata": {},
   "outputs": [],
   "source": [
    "url = \"https://makeup.com.ua/categorys/22806/\"\n",
    "\n",
    "r = requests.get(url)\n",
    "\n",
    "soup = BeautifulSoup(r.text, 'lxml')\n"
   ]
  },
  {
   "cell_type": "code",
   "execution_count": 15,
   "id": "4891ea3f",
   "metadata": {},
   "outputs": [
    {
     "data": {
      "text/plain": [
       "'https://makeup.com.ua/product/182877/'"
      ]
     },
     "execution_count": 15,
     "metadata": {},
     "output_type": "execute_result"
    }
   ],
   "source": [
    "link = \"https://makeup.com.ua\"+soup.find('div', class_='simple-slider-list__link').find('a', class_='simple-slider-list__name').get('href')\n",
    "link"
   ]
  },
  {
   "cell_type": "code",
   "execution_count": 29,
   "id": "bebe1757",
   "metadata": {},
   "outputs": [
    {
     "data": {
      "text/plain": [
       "'Batiste Dry Shampoo Clean and Classic Original'"
      ]
     },
     "execution_count": 29,
     "metadata": {},
     "output_type": "execute_result"
    }
   ],
   "source": [
    "sku_desc = soup.find('div', class_='simple-slider-list__link').find('div', class_='simple-slider-list__description').text\n",
    "sku_desc"
   ]
  },
  {
   "cell_type": "code",
   "execution_count": 30,
   "id": "8e758e6e",
   "metadata": {},
   "outputs": [
    {
     "data": {
      "text/plain": [
       "'Сухой шампунь'"
      ]
     },
     "execution_count": 30,
     "metadata": {},
     "output_type": "execute_result"
    }
   ],
   "source": [
    "sku_name = soup.find('div', class_='simple-slider-list__link').find('a', class_='simple-slider-list__name').text\n",
    "sku_name"
   ]
  },
  {
   "cell_type": "code",
   "execution_count": 35,
   "id": "fe0624f8",
   "metadata": {},
   "outputs": [
    {
     "data": {
      "text/plain": [
       "'126 ₴'"
      ]
     },
     "execution_count": 35,
     "metadata": {},
     "output_type": "execute_result"
    }
   ],
   "source": [
    "price = soup.find('div', class_='simple-slider-list__link').find('span', class_='simple-slider-list__price').text\n",
    "price"
   ]
  },
  {
   "cell_type": "code",
   "execution_count": 50,
   "id": "d166544e",
   "metadata": {},
   "outputs": [
    {
     "name": "stdout",
     "output_type": "stream",
     "text": [
      "1\n",
      "2\n",
      "3\n",
      "4\n",
      "5\n"
     ]
    }
   ],
   "source": [
    "data = []\n",
    "\n",
    "for p in range(1,6):\n",
    "    print(p)\n",
    "\n",
    "    url = f\"https://makeup.com.ua/categorys/22806/#offset={p}\"\n",
    "    r = requests.get(url)\n",
    "    sleep(4)\n",
    "    soup = BeautifulSoup(r.text, 'lxml')\n",
    "\n",
    "    all_skus_desc = soup.findAll('div', class_='simple-slider-list__link')\n",
    "\n",
    "\n",
    "    for all_sku_desc in all_skus_desc:\n",
    "        link = \"https://makeup.com.ua\"+all_sku_desc.find('a', class_='simple-slider-list__name').get('href')\n",
    "        sku_desc = all_sku_desc.find('div', class_='simple-slider-list__description').text\n",
    "        sku_name = all_sku_desc.find('a', class_='simple-slider-list__name').text\n",
    "        price = all_sku_desc.find('span', class_='simple-slider-list__price').text\n",
    "\n",
    "        data.append([link, sku_desc, sku_name,price])\n",
    "\n"
   ]
  },
  {
   "cell_type": "code",
   "execution_count": 51,
   "id": "e68bf7f7",
   "metadata": {},
   "outputs": [
    {
     "data": {
      "text/plain": [
       "180"
      ]
     },
     "execution_count": 51,
     "metadata": {},
     "output_type": "execute_result"
    }
   ],
   "source": [
    "len(data)"
   ]
  },
  {
   "cell_type": "code",
   "execution_count": 52,
   "id": "bd3288d5",
   "metadata": {},
   "outputs": [],
   "source": [
    "header = ['link', 'sku_desc', 'sku_name','price']"
   ]
  },
  {
   "cell_type": "code",
   "execution_count": 53,
   "id": "32993b81",
   "metadata": {},
   "outputs": [],
   "source": [
    "df = pd.DataFrame(data, columns=header)\n",
    "df.to_csv('/Users/Ирина/Downloads/Pandas-Data-Science-Tasks-master/SalesAnalysis/makeup_sku.csv', sep=';', encoding='utf8')"
   ]
  }
 ],
 "metadata": {
  "kernelspec": {
   "display_name": "Python 3 (ipykernel)",
   "language": "python",
   "name": "python3"
  },
  "language_info": {
   "codemirror_mode": {
    "name": "ipython",
    "version": 3
   },
   "file_extension": ".py",
   "mimetype": "text/x-python",
   "name": "python",
   "nbconvert_exporter": "python",
   "pygments_lexer": "ipython3",
   "version": "3.10.9"
  }
 },
 "nbformat": 4,
 "nbformat_minor": 5
}
